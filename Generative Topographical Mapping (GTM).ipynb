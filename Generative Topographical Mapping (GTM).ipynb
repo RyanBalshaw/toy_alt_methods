{
 "cells": [
  {
   "cell_type": "code",
   "execution_count": 1,
   "id": "1c1740f8",
   "metadata": {},
   "outputs": [],
   "source": [
    "import numpy as np\n",
    "from matplotlib import pyplot as plt\n",
    "%matplotlib inline"
   ]
  },
  {
   "cell_type": "markdown",
   "id": "e5fcb929",
   "metadata": {},
   "source": [
    "## GTM Object"
   ]
  },
  {
   "cell_type": "code",
   "execution_count": 2,
   "id": "2c87a02f",
   "metadata": {},
   "outputs": [],
   "source": [
    "class GTM(object):\n",
    "    \n",
    "    def __init__(self, n_components):\n",
    "        pass\n",
    "    \n",
    "        #Attributes\n",
    "        n_components = n_components\n",
    "        n_rows =self.n_components\n",
    "        n_cols = self.n_components\n",
    "        \n",
    "        #make grid\n",
    "        self.make_grid()\n",
    "        \n",
    "    def make_grid(self):\n",
    "        pass"
   ]
  },
  {
   "cell_type": "markdown",
   "id": "90b2fcaa",
   "metadata": {},
   "source": [
    "## Test dataset"
   ]
  },
  {
   "cell_type": "code",
   "execution_count": null,
   "id": "2f7294a4",
   "metadata": {},
   "outputs": [],
   "source": []
  }
 ],
 "metadata": {
  "kernelspec": {
   "display_name": "Python 3 (ipykernel)",
   "language": "python",
   "name": "python3"
  },
  "language_info": {
   "codemirror_mode": {
    "name": "ipython",
    "version": 3
   },
   "file_extension": ".py",
   "mimetype": "text/x-python",
   "name": "python",
   "nbconvert_exporter": "python",
   "pygments_lexer": "ipython3",
   "version": "3.8.12"
  },
  "toc": {
   "base_numbering": 1,
   "nav_menu": {},
   "number_sections": true,
   "sideBar": true,
   "skip_h1_title": false,
   "title_cell": "Table of Contents",
   "title_sidebar": "Contents",
   "toc_cell": false,
   "toc_position": {
    "height": "calc(100% - 180px)",
    "left": "10px",
    "top": "150px",
    "width": "261px"
   },
   "toc_section_display": true,
   "toc_window_display": true
  },
  "varInspector": {
   "cols": {
    "lenName": 16,
    "lenType": 16,
    "lenVar": 40
   },
   "kernels_config": {
    "python": {
     "delete_cmd_postfix": "",
     "delete_cmd_prefix": "del ",
     "library": "var_list.py",
     "varRefreshCmd": "print(var_dic_list())"
    },
    "r": {
     "delete_cmd_postfix": ") ",
     "delete_cmd_prefix": "rm(",
     "library": "var_list.r",
     "varRefreshCmd": "cat(var_dic_list()) "
    }
   },
   "types_to_exclude": [
    "module",
    "function",
    "builtin_function_or_method",
    "instance",
    "_Feature"
   ],
   "window_display": false
  }
 },
 "nbformat": 4,
 "nbformat_minor": 5
}
