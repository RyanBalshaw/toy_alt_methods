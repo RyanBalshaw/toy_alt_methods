{
 "cells": [
  {
   "cell_type": "code",
   "execution_count": 42,
   "id": "d47738d1",
   "metadata": {},
   "outputs": [],
   "source": [
    "import numpy as np\n",
    "from matplotlib import pyplot as plt\n",
    "import scipy.stats as scistats\n",
    "import torch\n",
    "import torch.nn as nn\n",
    "%matplotlib inline"
   ]
  },
  {
   "cell_type": "markdown",
   "id": "ca8d5882",
   "metadata": {},
   "source": [
    "# Create a heteroscedastic dataset"
   ]
  },
  {
   "cell_type": "code",
   "execution_count": 53,
   "id": "eab587c6",
   "metadata": {},
   "outputs": [
    {
     "data": {
      "image/png": "[encoded data removed]",
      "text/plain": [
       "<Figure size 432x288 with 1 Axes>"
      ]
     },
     "metadata": {
      "needs_background": "light"
     },
     "output_type": "display_data"
    }
   ],
   "source": [
    "def bishop_sampler(n_samples):\n",
    "    \n",
    "    x_n = np.random.uniform(0, 1, n_samples)\n",
    "    \n",
    "    y_n = x_n + 0.3 * np.sin(2 * np.pi * x_n)\n",
    "    noise = np.random.uniform(-0.1, 0.1, n_samples)\n",
    "    \n",
    "    return x_n, y_n + noise\n",
    "\n",
    "def linear_sampler(n_samples, m = 5, c = 1, x_range = [0, 1]):\n",
    "    \n",
    "    x_n = np.random.uniform(x_range[0], x_range[1], n_samples)\n",
    "    \n",
    "    y_n = x_n * m + c \n",
    "    noise = np.random.randn(n_samples)\n",
    "    heteroscedacity = x_n**2 * noise\n",
    "    \n",
    "    return x_n, y_n + heteroscedacity\n",
    "\n",
    "omega_n, HI_n = linear_sampler(10000)#bishop_sampler(1000)\n",
    "\n",
    "plt.figure()\n",
    "plt.title(r\"$y(x) = 5x + (x^2 \\times \\epsilon)$\")\n",
    "plt.scatter(omega_n, HI_n) \n",
    "plt.xlabel(r\"$\\omega_{shaft}$\", fontsize = 14)\n",
    "plt.ylabel(r\"$HI^{(1)}$\", fontsize = 14)\n",
    "plt.show()"
   ]
  },
  {
   "cell_type": "markdown",
   "id": "3d63de3e",
   "metadata": {},
   "source": [
    "# Mixture Density Networks"
   ]
  },
  {
   "cell_type": "code",
   "execution_count": 107,
   "id": "2cebfa02",
   "metadata": {},
   "outputs": [
    {
     "data": {
      "text/plain": [
       "'\\n initial_mu = np.array([[0.5], \\n                       [0.2], \\n                       [0.5]])\\n                       \\ninitial_sigma = np.array([[0.1], \\n                          [0.2],\\n                          [0.3]])\\n\\ntest_mu = mu_layer(1, 10, 3, initial_mu)\\nprint(test_mu(torch.zeros(10, 10)), \"\\n\\n\")\\n\\ntest_sigma = sigma_layer(1, 10, 3, initial_sigma)\\nprint(test_sigma(torch.zeros(10, 10)), \"\\n\\n\")\\n   \\ntest_pi = pi_layer(1, 10, 3)\\nprint(test_pi(torch.randn(10, 10)), \"\\n\\n\")    \\n'"
      ]
     },
     "execution_count": 107,
     "metadata": {},
     "output_type": "execute_result"
    }
   ],
   "source": [
    "class mu_layer(nn.Module):\n",
    "    \"\"\"\n",
    "    Purpose of this is to allow the user to initialise the bias of the network by adding a nn.Parameter that the user can control.\n",
    "    \n",
    "    This nn.Parameter module is additive to the network output.\n",
    "    \"\"\"\n",
    "    def __init__(self, n_features, n_hidden, n_components, initial_params = None):\n",
    "        super(mu_layer, self).__init__()\n",
    "        \n",
    "        self.n_features = n_features\n",
    "        self.n_hidden = n_hidden\n",
    "        self.n_components = n_components\n",
    "        self.initial_params = initial_params\n",
    "        self.device = torch.device(\"cuda:0\" if torch.cuda.is_available() else \"cpu\")\n",
    "        \n",
    "        if self.initial_params is not None:\n",
    "            assert self.initial_params.shape[0] == self.n_components, print(\"The initialisation tensor shape is incorrect in the mu_layer module.\")\n",
    "\n",
    "            self.bias = nn.Parameter(torch.from_numpy(self.initial_params.reshape(1, -1).astype(np.float32)), requires_grad = True)\n",
    "            bias_flag = False\n",
    "            \n",
    "        else:\n",
    "            self.bias = nn.Parameter(torch.zeros(1, int(self.n_components * self.n_features)), requires_grad = False)\n",
    "            bias_flag = True\n",
    "            \n",
    "        self.mu_net = nn.Linear(in_features = self.n_hidden,\n",
    "                                 out_features = int(self.n_components * self.n_features),\n",
    "                                 bias = bias_flag)\n",
    "         \n",
    "    def forward(self, hidden_representation):\n",
    "        \n",
    "        return self.mu_net(hidden_representation) + self.bias\n",
    "\n",
    "class sigma_layer(nn.Module):\n",
    "    \n",
    "    def __init__(self, n_features, n_hidden, n_components, initial_params = None):\n",
    "        super(sigma_layer, self).__init__()\n",
    "        \n",
    "        self.n_features = n_features\n",
    "        self.n_hidden = n_hidden\n",
    "        self.n_components = n_components\n",
    "        self.initial_params = initial_params\n",
    "        self.device = torch.device(\"cuda:0\" if torch.cuda.is_available() else \"cpu\")\n",
    "        self.activation = nn.Softplus()#lambda x: self._activation(x) + 1 + self.eps\n",
    "        \n",
    "        \n",
    "        if self.initial_params is not None:\n",
    "            assert self.initial_params.shape[0] == self.n_components, print(\"The initialisation tensor shape is incorrect in the mu_layer module.\")\n",
    "            \n",
    "            #Need to adjust the bias to undo the softplus activation\n",
    "            self.initial_params = np.log(np.exp(self.activation.beta * self.initial_params) - 1) / self.activation.beta\n",
    "            \n",
    "            #Need to adjust zero values\n",
    "            #self.initial_params = initial_params * (initial_params > 0)\n",
    "            \n",
    "            self.bias = nn.Parameter(torch.from_numpy(self.initial_params.reshape(1, -1).astype(np.float32)), requires_grad = True)\n",
    "            bias_flag = False\n",
    "            \n",
    "        else:\n",
    "            self.bias = nn.Parameter(torch.zeros(1, int(self.n_components * self.n_features)), requires_grad = False)\n",
    "            bias_flag = True\n",
    "            \n",
    "        self.sigma_net = nn.Linear(in_features = self.n_hidden,\n",
    "                                 out_features = int(self.n_components * self.n_features),\n",
    "                                 bias = bias_flag)\n",
    "    \n",
    "    def forward(self, hidden_representation):\n",
    "        \n",
    "        return self.activation(self.sigma_net(hidden_representation) + self.bias)\n",
    "\n",
    "class pi_layer(nn.Module):\n",
    "    \n",
    "    def __init__(self, n_features, n_hidden, n_components):\n",
    "        super(pi_layer, self).__init__()\n",
    "        \n",
    "        self.n_features = n_features\n",
    "        self.n_hidden = n_hidden\n",
    "        self.n_components = n_components\n",
    "        self.device = torch.device(\"cuda:0\" if torch.cuda.is_available() else \"cpu\")\n",
    "        self.activation = nn.Softmax(dim = 1)\n",
    "            \n",
    "        self.pi_net = nn.Linear(in_features = self.n_hidden,\n",
    "                                 out_features = int(self.n_components),\n",
    "                                 bias = True)\n",
    "         \n",
    "    def forward(self, hidden_representation):\n",
    "        \n",
    "        return self.activation(self.pi_net(hidden_representation)) #Bias does nothing, I am not sure how to initialise this well initially.\n",
    "    \n",
    "    \n",
    "\n",
    "\"\"\"\n",
    "initial_mu = np.array([[0.5], \n",
    "                       [0.2], \n",
    "                       [0.5]])\n",
    "                       \n",
    "initial_sigma = np.array([[0.1], \n",
    "                          [0.2],\n",
    "                          [0.3]])\n",
    "\n",
    "test_mu = mu_layer(1, 10, 3, initial_mu)\n",
    "print(test_mu(torch.zeros(10, 10)), \"\\n\\n\")\n",
    "\n",
    "test_sigma = sigma_layer(1, 10, 3, initial_sigma)\n",
    "print(test_sigma(torch.zeros(10, 10)), \"\\n\\n\")\n",
    "   \n",
    "test_pi = pi_layer(1, 10, 3)\n",
    "print(test_pi(torch.randn(10, 10)), \"\\n\\n\")    \n",
    "\"\"\" "
   ]
  },
  {
   "cell_type": "code",
   "execution_count": 76,
   "id": "7e5594bc",
   "metadata": {},
   "outputs": [],
   "source": [
    "class MixtureDensityNetwork(nn.Module):\n",
    "    \n",
    "    def __init__(self, n_components, regression_type = 'polynomial', net_dict = None, init_params = 'kmeans', verbose = False):\n",
    "        \"\"\"\n",
    "        This implementation is for a N-dimensional Mixture density network. I emphasise here that it is N-dimensional as I \n",
    "        try to improve the code to have better initialisations and a well-trained behaviour. \n",
    "        \"\"\"\n",
    "        super(MixtureDensityNetworks, self).__init__()\n",
    "        \n",
    "        self.n_components = n_components\n",
    "        self.regression_type = regression_type\n",
    "        self.net_dict = net_dict\n",
    "        self.init_params = init_params\n",
    "        self.verbose = verbose\n",
    "    \n",
    "    def initialise_model(self):\n",
    "        pass\n",
    "    \n",
    "    def gaussian_likelihood(self, parameter_tuple, x, log_flag = True):\n",
    "        \n",
    "        if log_flag:\n",
    "            pass\n",
    "        \n",
    "        else:\n",
    "            pass\n",
    "    \n",
    "    def loss(self, net_output_tuple, x):\n",
    "        pass\n",
    "    \n",
    "    def forward(self):\n",
    "        pass\n",
    "    \n",
    "    def fit(self, X):\n",
    "        pass\n",
    "    \n",
    "    def sample(self, n_samples):\n",
    "        pass"
   ]
  }
 ],
 "metadata": {
  "kernelspec": {
   "display_name": "Python 3 (ipykernel)",
   "language": "python",
   "name": "python3"
  },
  "language_info": {
   "codemirror_mode": {
    "name": "ipython",
    "version": 3
   },
   "file_extension": ".py",
   "mimetype": "text/x-python",
   "name": "python",
   "nbconvert_exporter": "python",
   "pygments_lexer": "ipython3",
   "version": "3.8.12"
  },
  "toc": {
   "base_numbering": 1,
   "nav_menu": {},
   "number_sections": true,
   "sideBar": true,
   "skip_h1_title": false,
   "title_cell": "Table of Contents",
   "title_sidebar": "Contents",
   "toc_cell": false,
   "toc_position": {
    "height": "calc(100% - 180px)",
    "left": "10px",
    "top": "150px",
    "width": "216.825px"
   },
   "toc_section_display": true,
   "toc_window_display": true
  },
  "varInspector": {
   "cols": {
    "lenName": 16,
    "lenType": 16,
    "lenVar": 40
   },
   "kernels_config": {
    "python": {
     "delete_cmd_postfix": "",
     "delete_cmd_prefix": "del ",
     "library": "var_list.py",
     "varRefreshCmd": "print(var_dic_list())"
    },
    "r": {
     "delete_cmd_postfix": ") ",
     "delete_cmd_prefix": "rm(",
     "library": "var_list.r",
     "varRefreshCmd": "cat(var_dic_list()) "
    }
   },
   "types_to_exclude": [
    "module",
    "function",
    "builtin_function_or_method",
    "instance",
    "_Feature"
   ],
   "window_display": false
  }
 },
 "nbformat": 4,
 "nbformat_minor": 5
}
